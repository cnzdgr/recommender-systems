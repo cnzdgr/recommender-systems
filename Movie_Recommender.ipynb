{
  "nbformat": 4,
  "nbformat_minor": 0,
  "metadata": {
    "colab": {
      "provenance": [],
      "machine_shape": "hm"
    },
    "kernelspec": {
      "name": "python3",
      "display_name": "Python 3"
    },
    "language_info": {
      "name": "python"
    }
  },
  "cells": [
    {
      "cell_type": "markdown",
      "source": [
        "#Description:\n",
        "In this notebook, we will build a movie recommeder system that gets the movie name that you like as input and select a few movies that you may also like. We will use collaborative filtering and also try to benefit from metadata (movie descriptions)\n",
        "\n",
        "#Part 1: Data Preparation\n"
      ],
      "metadata": {
        "id": "LtpfprBsGXCj"
      }
    },
    {
      "cell_type": "code",
      "source": [
        "import numpy as np\n",
        "import pandas as pd\n",
        "import matplotlib.pyplot as plt\n",
        "from collections import Counter\n",
        "from sklearn.neighbors import NearestNeighbors\n",
        "import warnings\n",
        "warnings.filterwarnings('ignore')"
      ],
      "metadata": {
        "id": "j5qTtLkvGZ68"
      },
      "execution_count": null,
      "outputs": []
    },
    {
      "cell_type": "code",
      "source": [
        "from google.colab import drive\n",
        "drive.mount('/content/drive')\n",
        "!ls \"/content/drive/My Drive/Colab Notebooks/datasets/movies\""
      ],
      "metadata": {
        "colab": {
          "base_uri": "https://localhost:8080/"
        },
        "id": "vOWULNwG6Z8o",
        "outputId": "0c47dd56-99f0-466c-ea39-0a6fcc9e8bce"
      },
      "execution_count": null,
      "outputs": [
        {
          "output_type": "stream",
          "name": "stdout",
          "text": [
            "Mounted at /content/drive\n",
            "keywords.csv  links.csv  movies_metadata.csv  ratings.csv\n"
          ]
        }
      ]
    },
    {
      "cell_type": "markdown",
      "source": [
        "First, we are getting rating data file from my Google **Drive**\n",
        "Same dataset can be found at https://www.kaggle.com/datasets/rounakbanik/the-movies-dataset\n",
        "\n",
        "\n"
      ],
      "metadata": {
        "id": "8rzWNnkXWhbl"
      }
    },
    {
      "cell_type": "code",
      "source": [
        "df = pd.read_csv(\"drive/My Drive/Colab Notebooks/datasets/movies/ratings.csv\", on_bad_lines='skip')\n",
        "df.drop(['timestamp'], axis=1, inplace=True)\n",
        "df['movieId'] = df['movieId'].astype(int, errors='ignore')\n",
        "\n",
        "print(f'Unique Values for Each Column: \\n{df.apply(pd.Series.nunique)} \\n')\n",
        "print(f'There are {len(df)} ratings in total \\n')\n",
        "df.head(2)"
      ],
      "metadata": {
        "colab": {
          "base_uri": "https://localhost:8080/",
          "height": 251
        },
        "id": "SWlizgtJkYVA",
        "outputId": "507d6cd0-a63a-4357-aa25-d1d26b652d77"
      },
      "execution_count": null,
      "outputs": [
        {
          "output_type": "stream",
          "name": "stdout",
          "text": [
            "Unique Values for Each Column: \n",
            "userId     270896\n",
            "movieId     45115\n",
            "rating         10\n",
            "dtype: int64 \n",
            "\n",
            "There are 26024289 ratings in total \n",
            "\n"
          ]
        },
        {
          "output_type": "execute_result",
          "data": {
            "text/plain": [
              "   userId  movieId  rating\n",
              "0       1      110     1.0\n",
              "1       1      147     4.5"
            ],
            "text/html": [
              "\n",
              "\n",
              "  <div id=\"df-3c091cb5-b8be-4694-813d-60ded24ba44f\">\n",
              "    <div class=\"colab-df-container\">\n",
              "      <div>\n",
              "<style scoped>\n",
              "    .dataframe tbody tr th:only-of-type {\n",
              "        vertical-align: middle;\n",
              "    }\n",
              "\n",
              "    .dataframe tbody tr th {\n",
              "        vertical-align: top;\n",
              "    }\n",
              "\n",
              "    .dataframe thead th {\n",
              "        text-align: right;\n",
              "    }\n",
              "</style>\n",
              "<table border=\"1\" class=\"dataframe\">\n",
              "  <thead>\n",
              "    <tr style=\"text-align: right;\">\n",
              "      <th></th>\n",
              "      <th>userId</th>\n",
              "      <th>movieId</th>\n",
              "      <th>rating</th>\n",
              "    </tr>\n",
              "  </thead>\n",
              "  <tbody>\n",
              "    <tr>\n",
              "      <th>0</th>\n",
              "      <td>1</td>\n",
              "      <td>110</td>\n",
              "      <td>1.0</td>\n",
              "    </tr>\n",
              "    <tr>\n",
              "      <th>1</th>\n",
              "      <td>1</td>\n",
              "      <td>147</td>\n",
              "      <td>4.5</td>\n",
              "    </tr>\n",
              "  </tbody>\n",
              "</table>\n",
              "</div>\n",
              "      <button class=\"colab-df-convert\" onclick=\"convertToInteractive('df-3c091cb5-b8be-4694-813d-60ded24ba44f')\"\n",
              "              title=\"Convert this dataframe to an interactive table.\"\n",
              "              style=\"display:none;\">\n",
              "\n",
              "  <svg xmlns=\"http://www.w3.org/2000/svg\" height=\"24px\"viewBox=\"0 0 24 24\"\n",
              "       width=\"24px\">\n",
              "    <path d=\"M0 0h24v24H0V0z\" fill=\"none\"/>\n",
              "    <path d=\"M18.56 5.44l.94 2.06.94-2.06 2.06-.94-2.06-.94-.94-2.06-.94 2.06-2.06.94zm-11 1L8.5 8.5l.94-2.06 2.06-.94-2.06-.94L8.5 2.5l-.94 2.06-2.06.94zm10 10l.94 2.06.94-2.06 2.06-.94-2.06-.94-.94-2.06-.94 2.06-2.06.94z\"/><path d=\"M17.41 7.96l-1.37-1.37c-.4-.4-.92-.59-1.43-.59-.52 0-1.04.2-1.43.59L10.3 9.45l-7.72 7.72c-.78.78-.78 2.05 0 2.83L4 21.41c.39.39.9.59 1.41.59.51 0 1.02-.2 1.41-.59l7.78-7.78 2.81-2.81c.8-.78.8-2.07 0-2.86zM5.41 20L4 18.59l7.72-7.72 1.47 1.35L5.41 20z\"/>\n",
              "  </svg>\n",
              "      </button>\n",
              "\n",
              "\n",
              "\n",
              "    <div id=\"df-5d1c87be-ed5b-48c7-bf60-a3dcdc3088a5\">\n",
              "      <button class=\"colab-df-quickchart\" onclick=\"quickchart('df-5d1c87be-ed5b-48c7-bf60-a3dcdc3088a5')\"\n",
              "              title=\"Suggest charts.\"\n",
              "              style=\"display:none;\">\n",
              "\n",
              "<svg xmlns=\"http://www.w3.org/2000/svg\" height=\"24px\"viewBox=\"0 0 24 24\"\n",
              "     width=\"24px\">\n",
              "    <g>\n",
              "        <path d=\"M19 3H5c-1.1 0-2 .9-2 2v14c0 1.1.9 2 2 2h14c1.1 0 2-.9 2-2V5c0-1.1-.9-2-2-2zM9 17H7v-7h2v7zm4 0h-2V7h2v10zm4 0h-2v-4h2v4z\"/>\n",
              "    </g>\n",
              "</svg>\n",
              "      </button>\n",
              "    </div>\n",
              "\n",
              "<style>\n",
              "  .colab-df-quickchart {\n",
              "    background-color: #E8F0FE;\n",
              "    border: none;\n",
              "    border-radius: 50%;\n",
              "    cursor: pointer;\n",
              "    display: none;\n",
              "    fill: #1967D2;\n",
              "    height: 32px;\n",
              "    padding: 0 0 0 0;\n",
              "    width: 32px;\n",
              "  }\n",
              "\n",
              "  .colab-df-quickchart:hover {\n",
              "    background-color: #E2EBFA;\n",
              "    box-shadow: 0px 1px 2px rgba(60, 64, 67, 0.3), 0px 1px 3px 1px rgba(60, 64, 67, 0.15);\n",
              "    fill: #174EA6;\n",
              "  }\n",
              "\n",
              "  [theme=dark] .colab-df-quickchart {\n",
              "    background-color: #3B4455;\n",
              "    fill: #D2E3FC;\n",
              "  }\n",
              "\n",
              "  [theme=dark] .colab-df-quickchart:hover {\n",
              "    background-color: #434B5C;\n",
              "    box-shadow: 0px 1px 3px 1px rgba(0, 0, 0, 0.15);\n",
              "    filter: drop-shadow(0px 1px 2px rgba(0, 0, 0, 0.3));\n",
              "    fill: #FFFFFF;\n",
              "  }\n",
              "</style>\n",
              "\n",
              "    <script>\n",
              "      async function quickchart(key) {\n",
              "        const containerElement = document.querySelector('#' + key);\n",
              "        const charts = await google.colab.kernel.invokeFunction(\n",
              "            'suggestCharts', [key], {});\n",
              "      }\n",
              "    </script>\n",
              "\n",
              "      <script>\n",
              "\n",
              "function displayQuickchartButton(domScope) {\n",
              "  let quickchartButtonEl =\n",
              "    domScope.querySelector('#df-5d1c87be-ed5b-48c7-bf60-a3dcdc3088a5 button.colab-df-quickchart');\n",
              "  quickchartButtonEl.style.display =\n",
              "    google.colab.kernel.accessAllowed ? 'block' : 'none';\n",
              "}\n",
              "\n",
              "        displayQuickchartButton(document);\n",
              "      </script>\n",
              "      <style>\n",
              "    .colab-df-container {\n",
              "      display:flex;\n",
              "      flex-wrap:wrap;\n",
              "      gap: 12px;\n",
              "    }\n",
              "\n",
              "    .colab-df-convert {\n",
              "      background-color: #E8F0FE;\n",
              "      border: none;\n",
              "      border-radius: 50%;\n",
              "      cursor: pointer;\n",
              "      display: none;\n",
              "      fill: #1967D2;\n",
              "      height: 32px;\n",
              "      padding: 0 0 0 0;\n",
              "      width: 32px;\n",
              "    }\n",
              "\n",
              "    .colab-df-convert:hover {\n",
              "      background-color: #E2EBFA;\n",
              "      box-shadow: 0px 1px 2px rgba(60, 64, 67, 0.3), 0px 1px 3px 1px rgba(60, 64, 67, 0.15);\n",
              "      fill: #174EA6;\n",
              "    }\n",
              "\n",
              "    [theme=dark] .colab-df-convert {\n",
              "      background-color: #3B4455;\n",
              "      fill: #D2E3FC;\n",
              "    }\n",
              "\n",
              "    [theme=dark] .colab-df-convert:hover {\n",
              "      background-color: #434B5C;\n",
              "      box-shadow: 0px 1px 3px 1px rgba(0, 0, 0, 0.15);\n",
              "      filter: drop-shadow(0px 1px 2px rgba(0, 0, 0, 0.3));\n",
              "      fill: #FFFFFF;\n",
              "    }\n",
              "  </style>\n",
              "\n",
              "      <script>\n",
              "        const buttonEl =\n",
              "          document.querySelector('#df-3c091cb5-b8be-4694-813d-60ded24ba44f button.colab-df-convert');\n",
              "        buttonEl.style.display =\n",
              "          google.colab.kernel.accessAllowed ? 'block' : 'none';\n",
              "\n",
              "        async function convertToInteractive(key) {\n",
              "          const element = document.querySelector('#df-3c091cb5-b8be-4694-813d-60ded24ba44f');\n",
              "          const dataTable =\n",
              "            await google.colab.kernel.invokeFunction('convertToInteractive',\n",
              "                                                     [key], {});\n",
              "          if (!dataTable) return;\n",
              "\n",
              "          const docLinkHtml = 'Like what you see? Visit the ' +\n",
              "            '<a target=\"_blank\" href=https://colab.research.google.com/notebooks/data_table.ipynb>data table notebook</a>'\n",
              "            + ' to learn more about interactive tables.';\n",
              "          element.innerHTML = '';\n",
              "          dataTable['output_type'] = 'display_data';\n",
              "          await google.colab.output.renderOutput(dataTable, element);\n",
              "          const docLink = document.createElement('div');\n",
              "          docLink.innerHTML = docLinkHtml;\n",
              "          element.appendChild(docLink);\n",
              "        }\n",
              "      </script>\n",
              "    </div>\n",
              "  </div>\n"
            ]
          },
          "metadata": {},
          "execution_count": 4
        }
      ]
    },
    {
      "cell_type": "markdown",
      "source": [
        "Using histogram to (i)check distribution of ratings and (ii)being sure they are all between 0.5-5"
      ],
      "metadata": {
        "id": "hXjjZXcdW9r5"
      }
    },
    {
      "cell_type": "code",
      "source": [
        "df_mean = df['rating'].mean()\n",
        "print(f'Mean value is {df_mean:.2f}')\n",
        "df['rating'].plot(kind='hist', bins=9, title='Rating Frequency Chart')"
      ],
      "metadata": {
        "colab": {
          "base_uri": "https://localhost:8080/",
          "height": 487
        },
        "id": "aNCj4HTereLx",
        "outputId": "db9ef712-9ec0-4fdc-8b83-045735f67633"
      },
      "execution_count": null,
      "outputs": [
        {
          "output_type": "stream",
          "name": "stdout",
          "text": [
            "Mean value is 3.53\n"
          ]
        },
        {
          "output_type": "execute_result",
          "data": {
            "text/plain": [
              "<Axes: title={'center': 'Rating Frequency Chart'}, ylabel='Frequency'>"
            ]
          },
          "metadata": {},
          "execution_count": 5
        },
        {
          "output_type": "display_data",
          "data": {
            "text/plain": [
              "<Figure size 640x480 with 1 Axes>"
            ],
            "image/png": "[encoded data removed]"
          },
          "metadata": {}
        }
      ]
    },
    {
      "cell_type": "markdown",
      "source": [
        "For movie_id and original_title matching, we need to combine metadata file and links file"
      ],
      "metadata": {
        "id": "wwcNNf7xXKNE"
      }
    },
    {
      "cell_type": "code",
      "source": [
        "#Reading and preparing metadata file\n",
        "df_meta = pd.read_csv(\"drive/My Drive/Colab Notebooks/datasets/movies/movies_metadata.csv\",\n",
        "                      on_bad_lines='skip')\n",
        "#df_meta.drop_duplicates(subset=['id'], inplace=True)\n",
        "df_meta.rename(columns={'id': 'tmdbId'}, inplace=True)\n",
        "df_meta[\"tmdbId\"] =pd.to_numeric(df_meta['tmdbId'], errors='coerce',downcast=\"integer\")\n",
        "\n",
        "#Taking movieId and tmdbId(id column at metadata) from links file\n",
        "df_links = pd.read_csv(\"drive/My Drive/Colab Notebooks/datasets/movies/links.csv\",\n",
        "                      on_bad_lines='skip')\n",
        "df_links = df_links[['movieId', 'tmdbId']]\n",
        "df_links.drop_duplicates(subset=['tmdbId'], inplace=True)\n",
        "\n",
        "#Taking keywords from keywords file\n",
        "df_keywords = pd.read_csv(\"drive/My Drive/Colab Notebooks/datasets/movies/keywords.csv\",\n",
        "                      on_bad_lines='skip')\n",
        "df_keywords.rename(columns={'id': 'tmdbId'}, inplace=True)\n",
        "\n",
        "#Merging DataFrames, keeping only movieId and title, removing bad lines\n",
        "df_meta = pd.merge(df_links, df_meta, how='inner', on='tmdbId')\n",
        "df_meta[\"movieId\"] =pd.to_numeric(df_meta['movieId'], errors='coerce',downcast=\"integer\")\n",
        "df_meta.dropna(subset=[\"movieId\"],inplace=True)\n",
        "df_meta = pd.merge(df_meta, df_keywords, how='left', on='tmdbId')\n",
        "df_meta.head(2)"
      ],
      "metadata": {
        "colab": {
          "base_uri": "https://localhost:8080/",
          "height": 361
        },
        "id": "TkUla_RBtZ44",
        "outputId": "54044f00-b59a-4e00-8e07-5ced5861fb91"
      },
      "execution_count": null,
      "outputs": [
        {
          "output_type": "execute_result",
          "data": {
            "text/plain": [
              "   movieId  tmdbId  adult                              belongs_to_collection  \\\n",
              "0        1   862.0  False  {'id': 10194, 'name': 'Toy Story Collection', ...   \n",
              "1        2  8844.0  False                                                NaN   \n",
              "\n",
              "     budget                                             genres  \\\n",
              "0  30000000  [{'id': 16, 'name': 'Animation'}, {'id': 35, '...   \n",
              "1  65000000  [{'id': 12, 'name': 'Adventure'}, {'id': 14, '...   \n",
              "\n",
              "                               homepage    imdb_id original_language  \\\n",
              "0  http://toystory.disney.com/toy-story  tt0114709                en   \n",
              "1                                   NaN  tt0113497                en   \n",
              "\n",
              "  original_title  ...      revenue runtime  \\\n",
              "0      Toy Story  ...  373554033.0    81.0   \n",
              "1        Jumanji  ...  262797249.0   104.0   \n",
              "\n",
              "                                    spoken_languages    status  \\\n",
              "0           [{'iso_639_1': 'en', 'name': 'English'}]  Released   \n",
              "1  [{'iso_639_1': 'en', 'name': 'English'}, {'iso...  Released   \n",
              "\n",
              "                                     tagline      title  video  vote_average  \\\n",
              "0                                        NaN  Toy Story  False           7.7   \n",
              "1  Roll the dice and unleash the excitement!    Jumanji  False           6.9   \n",
              "\n",
              "  vote_count                                           keywords  \n",
              "0     5415.0  [{'id': 931, 'name': 'jealousy'}, {'id': 4290,...  \n",
              "1     2413.0  [{'id': 10090, 'name': 'board game'}, {'id': 1...  \n",
              "\n",
              "[2 rows x 26 columns]"
            ],
            "text/html": [
              "\n",
              "\n",
              "  <div id=\"df-726038c8-fc66-42b1-93e0-83a340071825\">\n",
              "    <div class=\"colab-df-container\">\n",
              "      <div>\n",
              "<style scoped>\n",
              "    .dataframe tbody tr th:only-of-type {\n",
              "        vertical-align: middle;\n",
              "    }\n",
              "\n",
              "    .dataframe tbody tr th {\n",
              "        vertical-align: top;\n",
              "    }\n",
              "\n",
              "    .dataframe thead th {\n",
              "        text-align: right;\n",
              "    }\n",
              "</style>\n",
              "<table border=\"1\" class=\"dataframe\">\n",
              "  <thead>\n",
              "    <tr style=\"text-align: right;\">\n",
              "      <th></th>\n",
              "      <th>movieId</th>\n",
              "      <th>tmdbId</th>\n",
              "      <th>adult</th>\n",
              "      <th>belongs_to_collection</th>\n",
              "      <th>budget</th>\n",
              "      <th>genres</th>\n",
              "      <th>homepage</th>\n",
              "      <th>imdb_id</th>\n",
              "      <th>original_language</th>\n",
              "      <th>original_title</th>\n",
              "      <th>...</th>\n",
              "      <th>revenue</th>\n",
              "      <th>runtime</th>\n",
              "      <th>spoken_languages</th>\n",
              "      <th>status</th>\n",
              "      <th>tagline</th>\n",
              "      <th>title</th>\n",
              "      <th>video</th>\n",
              "      <th>vote_average</th>\n",
              "      <th>vote_count</th>\n",
              "      <th>keywords</th>\n",
              "    </tr>\n",
              "  </thead>\n",
              "  <tbody>\n",
              "    <tr>\n",
              "      <th>0</th>\n",
              "      <td>1</td>\n",
              "      <td>862.0</td>\n",
              "      <td>False</td>\n",
              "      <td>{'id': 10194, 'name': 'Toy Story Collection', ...</td>\n",
              "      <td>30000000</td>\n",
              "      <td>[{'id': 16, 'name': 'Animation'}, {'id': 35, '...</td>\n",
              "      <td>http://toystory.disney.com/toy-story</td>\n",
              "      <td>tt0114709</td>\n",
              "      <td>en</td>\n",
              "      <td>Toy Story</td>\n",
              "      <td>...</td>\n",
              "      <td>373554033.0</td>\n",
              "      <td>81.0</td>\n",
              "      <td>[{'iso_639_1': 'en', 'name': 'English'}]</td>\n",
              "      <td>Released</td>\n",
              "      <td>NaN</td>\n",
              "      <td>Toy Story</td>\n",
              "      <td>False</td>\n",
              "      <td>7.7</td>\n",
              "      <td>5415.0</td>\n",
              "      <td>[{'id': 931, 'name': 'jealousy'}, {'id': 4290,...</td>\n",
              "    </tr>\n",
              "    <tr>\n",
              "      <th>1</th>\n",
              "      <td>2</td>\n",
              "      <td>8844.0</td>\n",
              "      <td>False</td>\n",
              "      <td>NaN</td>\n",
              "      <td>65000000</td>\n",
              "      <td>[{'id': 12, 'name': 'Adventure'}, {'id': 14, '...</td>\n",
              "      <td>NaN</td>\n",
              "      <td>tt0113497</td>\n",
              "      <td>en</td>\n",
              "      <td>Jumanji</td>\n",
              "      <td>...</td>\n",
              "      <td>262797249.0</td>\n",
              "      <td>104.0</td>\n",
              "      <td>[{'iso_639_1': 'en', 'name': 'English'}, {'iso...</td>\n",
              "      <td>Released</td>\n",
              "      <td>Roll the dice and unleash the excitement!</td>\n",
              "      <td>Jumanji</td>\n",
              "      <td>False</td>\n",
              "      <td>6.9</td>\n",
              "      <td>2413.0</td>\n",
              "      <td>[{'id': 10090, 'name': 'board game'}, {'id': 1...</td>\n",
              "    </tr>\n",
              "  </tbody>\n",
              "</table>\n",
              "<p>2 rows × 26 columns</p>\n",
              "</div>\n",
              "      <button class=\"colab-df-convert\" onclick=\"convertToInteractive('df-726038c8-fc66-42b1-93e0-83a340071825')\"\n",
              "              title=\"Convert this dataframe to an interactive table.\"\n",
              "              style=\"display:none;\">\n",
              "\n",
              "  <svg xmlns=\"http://www.w3.org/2000/svg\" height=\"24px\"viewBox=\"0 0 24 24\"\n",
              "       width=\"24px\">\n",
              "    <path d=\"M0 0h24v24H0V0z\" fill=\"none\"/>\n",
              "    <path d=\"M18.56 5.44l.94 2.06.94-2.06 2.06-.94-2.06-.94-.94-2.06-.94 2.06-2.06.94zm-11 1L8.5 8.5l.94-2.06 2.06-.94-2.06-.94L8.5 2.5l-.94 2.06-2.06.94zm10 10l.94 2.06.94-2.06 2.06-.94-2.06-.94-.94-2.06-.94 2.06-2.06.94z\"/><path d=\"M17.41 7.96l-1.37-1.37c-.4-.4-.92-.59-1.43-.59-.52 0-1.04.2-1.43.59L10.3 9.45l-7.72 7.72c-.78.78-.78 2.05 0 2.83L4 21.41c.39.39.9.59 1.41.59.51 0 1.02-.2 1.41-.59l7.78-7.78 2.81-2.81c.8-.78.8-2.07 0-2.86zM5.41 20L4 18.59l7.72-7.72 1.47 1.35L5.41 20z\"/>\n",
              "  </svg>\n",
              "      </button>\n",
              "\n",
              "\n",
              "\n",
              "    <div id=\"df-cf9676d0-8dd6-4d21-ab38-9fde8ff0b895\">\n",
              "      <button class=\"colab-df-quickchart\" onclick=\"quickchart('df-cf9676d0-8dd6-4d21-ab38-9fde8ff0b895')\"\n",
              "              title=\"Suggest charts.\"\n",
              "              style=\"display:none;\">\n",
              "\n",
              "<svg xmlns=\"http://www.w3.org/2000/svg\" height=\"24px\"viewBox=\"0 0 24 24\"\n",
              "     width=\"24px\">\n",
              "    <g>\n",
              "        <path d=\"M19 3H5c-1.1 0-2 .9-2 2v14c0 1.1.9 2 2 2h14c1.1 0 2-.9 2-2V5c0-1.1-.9-2-2-2zM9 17H7v-7h2v7zm4 0h-2V7h2v10zm4 0h-2v-4h2v4z\"/>\n",
              "    </g>\n",
              "</svg>\n",
              "      </button>\n",
              "    </div>\n",
              "\n",
              "<style>\n",
              "  .colab-df-quickchart {\n",
              "    background-color: #E8F0FE;\n",
              "    border: none;\n",
              "    border-radius: 50%;\n",
              "    cursor: pointer;\n",
              "    display: none;\n",
              "    fill: #1967D2;\n",
              "    height: 32px;\n",
              "    padding: 0 0 0 0;\n",
              "    width: 32px;\n",
              "  }\n",
              "\n",
              "  .colab-df-quickchart:hover {\n",
              "    background-color: #E2EBFA;\n",
              "    box-shadow: 0px 1px 2px rgba(60, 64, 67, 0.3), 0px 1px 3px 1px rgba(60, 64, 67, 0.15);\n",
              "    fill: #174EA6;\n",
              "  }\n",
              "\n",
              "  [theme=dark] .colab-df-quickchart {\n",
              "    background-color: #3B4455;\n",
              "    fill: #D2E3FC;\n",
              "  }\n",
              "\n",
              "  [theme=dark] .colab-df-quickchart:hover {\n",
              "    background-color: #434B5C;\n",
              "    box-shadow: 0px 1px 3px 1px rgba(0, 0, 0, 0.15);\n",
              "    filter: drop-shadow(0px 1px 2px rgba(0, 0, 0, 0.3));\n",
              "    fill: #FFFFFF;\n",
              "  }\n",
              "</style>\n",
              "\n",
              "    <script>\n",
              "      async function quickchart(key) {\n",
              "        const containerElement = document.querySelector('#' + key);\n",
              "        const charts = await google.colab.kernel.invokeFunction(\n",
              "            'suggestCharts', [key], {});\n",
              "      }\n",
              "    </script>\n",
              "\n",
              "      <script>\n",
              "\n",
              "function displayQuickchartButton(domScope) {\n",
              "  let quickchartButtonEl =\n",
              "    domScope.querySelector('#df-cf9676d0-8dd6-4d21-ab38-9fde8ff0b895 button.colab-df-quickchart');\n",
              "  quickchartButtonEl.style.display =\n",
              "    google.colab.kernel.accessAllowed ? 'block' : 'none';\n",
              "}\n",
              "\n",
              "        displayQuickchartButton(document);\n",
              "      </script>\n",
              "      <style>\n",
              "    .colab-df-container {\n",
              "      display:flex;\n",
              "      flex-wrap:wrap;\n",
              "      gap: 12px;\n",
              "    }\n",
              "\n",
              "    .colab-df-convert {\n",
              "      background-color: #E8F0FE;\n",
              "      border: none;\n",
              "      border-radius: 50%;\n",
              "      cursor: pointer;\n",
              "      display: none;\n",
              "      fill: #1967D2;\n",
              "      height: 32px;\n",
              "      padding: 0 0 0 0;\n",
              "      width: 32px;\n",
              "    }\n",
              "\n",
              "    .colab-df-convert:hover {\n",
              "      background-color: #E2EBFA;\n",
              "      box-shadow: 0px 1px 2px rgba(60, 64, 67, 0.3), 0px 1px 3px 1px rgba(60, 64, 67, 0.15);\n",
              "      fill: #174EA6;\n",
              "    }\n",
              "\n",
              "    [theme=dark] .colab-df-convert {\n",
              "      background-color: #3B4455;\n",
              "      fill: #D2E3FC;\n",
              "    }\n",
              "\n",
              "    [theme=dark] .colab-df-convert:hover {\n",
              "      background-color: #434B5C;\n",
              "      box-shadow: 0px 1px 3px 1px rgba(0, 0, 0, 0.15);\n",
              "      filter: drop-shadow(0px 1px 2px rgba(0, 0, 0, 0.3));\n",
              "      fill: #FFFFFF;\n",
              "    }\n",
              "  </style>\n",
              "\n",
              "      <script>\n",
              "        const buttonEl =\n",
              "          document.querySelector('#df-726038c8-fc66-42b1-93e0-83a340071825 button.colab-df-convert');\n",
              "        buttonEl.style.display =\n",
              "          google.colab.kernel.accessAllowed ? 'block' : 'none';\n",
              "\n",
              "        async function convertToInteractive(key) {\n",
              "          const element = document.querySelector('#df-726038c8-fc66-42b1-93e0-83a340071825');\n",
              "          const dataTable =\n",
              "            await google.colab.kernel.invokeFunction('convertToInteractive',\n",
              "                                                     [key], {});\n",
              "          if (!dataTable) return;\n",
              "\n",
              "          const docLinkHtml = 'Like what you see? Visit the ' +\n",
              "            '<a target=\"_blank\" href=https://colab.research.google.com/notebooks/data_table.ipynb>data table notebook</a>'\n",
              "            + ' to learn more about interactive tables.';\n",
              "          element.innerHTML = '';\n",
              "          dataTable['output_type'] = 'display_data';\n",
              "          await google.colab.output.renderOutput(dataTable, element);\n",
              "          const docLink = document.createElement('div');\n",
              "          docLink.innerHTML = docLinkHtml;\n",
              "          element.appendChild(docLink);\n",
              "        }\n",
              "      </script>\n",
              "    </div>\n",
              "  </div>\n"
            ]
          },
          "metadata": {},
          "execution_count": 6
        }
      ]
    },
    {
      "cell_type": "markdown",
      "source": [
        "Description of important columns:\n",
        "\n",
        "* movieId: the unique id for each movie in this dataset\n",
        "\n",
        "* budget - the budget of the movie, contains many \"0\" values - not reliable\n",
        "\n",
        "* original_language - the language that the movie was made\n",
        "\n",
        "* original_title - the original name of the movie\n",
        "\n",
        "* overview - a short summary of the movie\n",
        "\n",
        "* revenue - the worldwide generated revenue\n",
        "\n",
        "* runtime - the length of the movie in minutes\n",
        "\n",
        "* votecount - the total amount of votes that the movie received in this dataset\n",
        "\n",
        "* keywords - tags for the movie, each tag also has an id\n"
      ],
      "metadata": {
        "id": "o5XyzNXvXLD3"
      }
    },
    {
      "cell_type": "code",
      "source": [
        "df_meta = df_meta[['movieId', 'original_language', 'original_title', 'overview', 'revenue', 'runtime', 'keywords']]\n",
        "df_meta.head(2)"
      ],
      "metadata": {
        "colab": {
          "base_uri": "https://localhost:8080/",
          "height": 112
        },
        "id": "PIg862_jl6v9",
        "outputId": "bdeb0b1a-b40d-44e9-9ff8-93aea77e6a9e"
      },
      "execution_count": null,
      "outputs": [
        {
          "output_type": "execute_result",
          "data": {
            "text/plain": [
              "   movieId original_language original_title  \\\n",
              "0        1                en      Toy Story   \n",
              "1        2                en        Jumanji   \n",
              "\n",
              "                                            overview      revenue  runtime  \\\n",
              "0  Led by Woody, Andy's toys live happily in his ...  373554033.0     81.0   \n",
              "1  When siblings Judy and Peter discover an encha...  262797249.0    104.0   \n",
              "\n",
              "                                            keywords  \n",
              "0  [{'id': 931, 'name': 'jealousy'}, {'id': 4290,...  \n",
              "1  [{'id': 10090, 'name': 'board game'}, {'id': 1...  "
            ],
            "text/html": [
              "\n",
              "\n",
              "  <div id=\"df-ff0004f7-153d-40c2-98e6-7692ae454858\">\n",
              "    <div class=\"colab-df-container\">\n",
              "      <div>\n",
              "<style scoped>\n",
              "    .dataframe tbody tr th:only-of-type {\n",
              "        vertical-align: middle;\n",
              "    }\n",
              "\n",
              "    .dataframe tbody tr th {\n",
              "        vertical-align: top;\n",
              "    }\n",
              "\n",
              "    .dataframe thead th {\n",
              "        text-align: right;\n",
              "    }\n",
              "</style>\n",
              "<table border=\"1\" class=\"dataframe\">\n",
              "  <thead>\n",
              "    <tr style=\"text-align: right;\">\n",
              "      <th></th>\n",
              "      <th>movieId</th>\n",
              "      <th>original_language</th>\n",
              "      <th>original_title</th>\n",
              "      <th>overview</th>\n",
              "      <th>revenue</th>\n",
              "      <th>runtime</th>\n",
              "      <th>keywords</th>\n",
              "    </tr>\n",
              "  </thead>\n",
              "  <tbody>\n",
              "    <tr>\n",
              "      <th>0</th>\n",
              "      <td>1</td>\n",
              "      <td>en</td>\n",
              "      <td>Toy Story</td>\n",
              "      <td>Led by Woody, Andy's toys live happily in his ...</td>\n",
              "      <td>373554033.0</td>\n",
              "      <td>81.0</td>\n",
              "      <td>[{'id': 931, 'name': 'jealousy'}, {'id': 4290,...</td>\n",
              "    </tr>\n",
              "    <tr>\n",
              "      <th>1</th>\n",
              "      <td>2</td>\n",
              "      <td>en</td>\n",
              "      <td>Jumanji</td>\n",
              "      <td>When siblings Judy and Peter discover an encha...</td>\n",
              "      <td>262797249.0</td>\n",
              "      <td>104.0</td>\n",
              "      <td>[{'id': 10090, 'name': 'board game'}, {'id': 1...</td>\n",
              "    </tr>\n",
              "  </tbody>\n",
              "</table>\n",
              "</div>\n",
              "      <button class=\"colab-df-convert\" onclick=\"convertToInteractive('df-ff0004f7-153d-40c2-98e6-7692ae454858')\"\n",
              "              title=\"Convert this dataframe to an interactive table.\"\n",
              "              style=\"display:none;\">\n",
              "\n",
              "  <svg xmlns=\"http://www.w3.org/2000/svg\" height=\"24px\"viewBox=\"0 0 24 24\"\n",
              "       width=\"24px\">\n",
              "    <path d=\"M0 0h24v24H0V0z\" fill=\"none\"/>\n",
              "    <path d=\"M18.56 5.44l.94 2.06.94-2.06 2.06-.94-2.06-.94-.94-2.06-.94 2.06-2.06.94zm-11 1L8.5 8.5l.94-2.06 2.06-.94-2.06-.94L8.5 2.5l-.94 2.06-2.06.94zm10 10l.94 2.06.94-2.06 2.06-.94-2.06-.94-.94-2.06-.94 2.06-2.06.94z\"/><path d=\"M17.41 7.96l-1.37-1.37c-.4-.4-.92-.59-1.43-.59-.52 0-1.04.2-1.43.59L10.3 9.45l-7.72 7.72c-.78.78-.78 2.05 0 2.83L4 21.41c.39.39.9.59 1.41.59.51 0 1.02-.2 1.41-.59l7.78-7.78 2.81-2.81c.8-.78.8-2.07 0-2.86zM5.41 20L4 18.59l7.72-7.72 1.47 1.35L5.41 20z\"/>\n",
              "  </svg>\n",
              "      </button>\n",
              "\n",
              "\n",
              "\n",
              "    <div id=\"df-2813f11c-0882-4f56-beaa-f038bb4f1211\">\n",
              "      <button class=\"colab-df-quickchart\" onclick=\"quickchart('df-2813f11c-0882-4f56-beaa-f038bb4f1211')\"\n",
              "              title=\"Suggest charts.\"\n",
              "              style=\"display:none;\">\n",
              "\n",
              "<svg xmlns=\"http://www.w3.org/2000/svg\" height=\"24px\"viewBox=\"0 0 24 24\"\n",
              "     width=\"24px\">\n",
              "    <g>\n",
              "        <path d=\"M19 3H5c-1.1 0-2 .9-2 2v14c0 1.1.9 2 2 2h14c1.1 0 2-.9 2-2V5c0-1.1-.9-2-2-2zM9 17H7v-7h2v7zm4 0h-2V7h2v10zm4 0h-2v-4h2v4z\"/>\n",
              "    </g>\n",
              "</svg>\n",
              "      </button>\n",
              "    </div>\n",
              "\n",
              "<style>\n",
              "  .colab-df-quickchart {\n",
              "    background-color: #E8F0FE;\n",
              "    border: none;\n",
              "    border-radius: 50%;\n",
              "    cursor: pointer;\n",
              "    display: none;\n",
              "    fill: #1967D2;\n",
              "    height: 32px;\n",
              "    padding: 0 0 0 0;\n",
              "    width: 32px;\n",
              "  }\n",
              "\n",
              "  .colab-df-quickchart:hover {\n",
              "    background-color: #E2EBFA;\n",
              "    box-shadow: 0px 1px 2px rgba(60, 64, 67, 0.3), 0px 1px 3px 1px rgba(60, 64, 67, 0.15);\n",
              "    fill: #174EA6;\n",
              "  }\n",
              "\n",
              "  [theme=dark] .colab-df-quickchart {\n",
              "    background-color: #3B4455;\n",
              "    fill: #D2E3FC;\n",
              "  }\n",
              "\n",
              "  [theme=dark] .colab-df-quickchart:hover {\n",
              "    background-color: #434B5C;\n",
              "    box-shadow: 0px 1px 3px 1px rgba(0, 0, 0, 0.15);\n",
              "    filter: drop-shadow(0px 1px 2px rgba(0, 0, 0, 0.3));\n",
              "    fill: #FFFFFF;\n",
              "  }\n",
              "</style>\n",
              "\n",
              "    <script>\n",
              "      async function quickchart(key) {\n",
              "        const containerElement = document.querySelector('#' + key);\n",
              "        const charts = await google.colab.kernel.invokeFunction(\n",
              "            'suggestCharts', [key], {});\n",
              "      }\n",
              "    </script>\n",
              "\n",
              "      <script>\n",
              "\n",
              "function displayQuickchartButton(domScope) {\n",
              "  let quickchartButtonEl =\n",
              "    domScope.querySelector('#df-2813f11c-0882-4f56-beaa-f038bb4f1211 button.colab-df-quickchart');\n",
              "  quickchartButtonEl.style.display =\n",
              "    google.colab.kernel.accessAllowed ? 'block' : 'none';\n",
              "}\n",
              "\n",
              "        displayQuickchartButton(document);\n",
              "      </script>\n",
              "      <style>\n",
              "    .colab-df-container {\n",
              "      display:flex;\n",
              "      flex-wrap:wrap;\n",
              "      gap: 12px;\n",
              "    }\n",
              "\n",
              "    .colab-df-convert {\n",
              "      background-color: #E8F0FE;\n",
              "      border: none;\n",
              "      border-radius: 50%;\n",
              "      cursor: pointer;\n",
              "      display: none;\n",
              "      fill: #1967D2;\n",
              "      height: 32px;\n",
              "      padding: 0 0 0 0;\n",
              "      width: 32px;\n",
              "    }\n",
              "\n",
              "    .colab-df-convert:hover {\n",
              "      background-color: #E2EBFA;\n",
              "      box-shadow: 0px 1px 2px rgba(60, 64, 67, 0.3), 0px 1px 3px 1px rgba(60, 64, 67, 0.15);\n",
              "      fill: #174EA6;\n",
              "    }\n",
              "\n",
              "    [theme=dark] .colab-df-convert {\n",
              "      background-color: #3B4455;\n",
              "      fill: #D2E3FC;\n",
              "    }\n",
              "\n",
              "    [theme=dark] .colab-df-convert:hover {\n",
              "      background-color: #434B5C;\n",
              "      box-shadow: 0px 1px 3px 1px rgba(0, 0, 0, 0.15);\n",
              "      filter: drop-shadow(0px 1px 2px rgba(0, 0, 0, 0.3));\n",
              "      fill: #FFFFFF;\n",
              "    }\n",
              "  </style>\n",
              "\n",
              "      <script>\n",
              "        const buttonEl =\n",
              "          document.querySelector('#df-ff0004f7-153d-40c2-98e6-7692ae454858 button.colab-df-convert');\n",
              "        buttonEl.style.display =\n",
              "          google.colab.kernel.accessAllowed ? 'block' : 'none';\n",
              "\n",
              "        async function convertToInteractive(key) {\n",
              "          const element = document.querySelector('#df-ff0004f7-153d-40c2-98e6-7692ae454858');\n",
              "          const dataTable =\n",
              "            await google.colab.kernel.invokeFunction('convertToInteractive',\n",
              "                                                     [key], {});\n",
              "          if (!dataTable) return;\n",
              "\n",
              "          const docLinkHtml = 'Like what you see? Visit the ' +\n",
              "            '<a target=\"_blank\" href=https://colab.research.google.com/notebooks/data_table.ipynb>data table notebook</a>'\n",
              "            + ' to learn more about interactive tables.';\n",
              "          element.innerHTML = '';\n",
              "          dataTable['output_type'] = 'display_data';\n",
              "          await google.colab.output.renderOutput(dataTable, element);\n",
              "          const docLink = document.createElement('div');\n",
              "          docLink.innerHTML = docLinkHtml;\n",
              "          element.appendChild(docLink);\n",
              "        }\n",
              "      </script>\n",
              "    </div>\n",
              "  </div>\n"
            ]
          },
          "metadata": {},
          "execution_count": 7
        }
      ]
    },
    {
      "cell_type": "markdown",
      "source": [
        "Merging both dataframes to have names\n",
        "\n",
        "Dropna helps to drop rows with no movie name as (i) Non-English movie, (ii) Bad formatting"
      ],
      "metadata": {
        "id": "Z9e57XQQXdPf"
      }
    },
    {
      "cell_type": "code",
      "source": [
        "df = pd.merge(df, df_meta, on=\"movieId\",how=\"inner\")\n",
        "print(f'{df.info()}\\n')\n",
        "print(f'{df.head(2)}')"
      ],
      "metadata": {
        "colab": {
          "base_uri": "https://localhost:8080/"
        },
        "id": "_ePVv4Mxi2p3",
        "outputId": "c0496f93-fc83-45e3-843a-e20d2b8da76f"
      },
      "execution_count": null,
      "outputs": [
        {
          "output_type": "stream",
          "name": "stdout",
          "text": [
            "<class 'pandas.core.frame.DataFrame'>\n",
            "Int64Index: 26025228 entries, 0 to 26025227\n",
            "Data columns (total 9 columns):\n",
            " #   Column             Dtype  \n",
            "---  ------             -----  \n",
            " 0   userId             int64  \n",
            " 1   movieId            int64  \n",
            " 2   rating             float64\n",
            " 3   original_language  object \n",
            " 4   original_title     object \n",
            " 5   overview           object \n",
            " 6   revenue            float64\n",
            " 7   runtime            float64\n",
            " 8   keywords           object \n",
            "dtypes: float64(3), int64(2), object(4)\n",
            "memory usage: 1.9+ GB\n",
            "None\n",
            "\n",
            "   userId  movieId  rating original_language original_title  \\\n",
            "0       1      110     1.0                en     Braveheart   \n",
            "1      11      110     3.5                en     Braveheart   \n",
            "\n",
            "                                            overview      revenue  runtime  \\\n",
            "0  Enraged at the slaughter of Murron, his new br...  210000000.0    177.0   \n",
            "1  Enraged at the slaughter of Murron, his new br...  210000000.0    177.0   \n",
            "\n",
            "                                            keywords  \n",
            "0  [{'id': 30, 'name': 'individual'}, {'id': 388,...  \n",
            "1  [{'id': 30, 'name': 'individual'}, {'id': 388,...  \n"
          ]
        }
      ]
    },
    {
      "cell_type": "markdown",
      "source": [
        "The resulting matrix will be sparse\n",
        "\n",
        "However, to be sure that (i) the matrix will not be too sparse, (ii) the computation is fast.\n",
        "\n",
        "We can (i)eliminate unpopular movies, (ii)non-English movies, and (iii)only keep frequent voters"
      ],
      "metadata": {
        "id": "g8MCeytibxOX"
      }
    },
    {
      "cell_type": "code",
      "source": [
        "df.drop(df[df['original_language'] != 'en'].index, inplace=True)\n",
        "\n",
        "user_groupby = pd.Series(Counter(df['userId']))\n",
        "freq_voters = user_groupby.loc[lambda x : x > 150]\n",
        "print(f'In total, we will consider {freq_voters.size} voters as they voted for more than 150 movies')\n",
        "\n",
        "movies_groupby = pd.Series(Counter(df['movieId']))\n",
        "popular_movies = movies_groupby.loc[lambda x : x > 1000]\n",
        "print(f'In total, we will consider {popular_movies.size} movies as they are voted by  more than 1000 users')\n",
        "\n",
        "freq_voters = np.array(freq_voters.index)\n",
        "popular_movies = np.array(popular_movies.index)"
      ],
      "metadata": {
        "colab": {
          "base_uri": "https://localhost:8080/"
        },
        "id": "CKF9CJjKl5Yj",
        "outputId": "3d458842-24e8-46bd-b3dc-089d04127e54"
      },
      "execution_count": null,
      "outputs": [
        {
          "output_type": "stream",
          "name": "stdout",
          "text": [
            "In total, we will consider 41419 voters as they voted for more than 150 movies\n",
            "In total, we will consider 3476 movies as they are voted by  more than 1000 users\n"
          ]
        }
      ]
    },
    {
      "cell_type": "code",
      "source": [
        "df = df[df['userId'].isin(freq_voters)]\n",
        "df = df[df['movieId'].isin(popular_movies)]\n",
        "df.dropna(inplace=True)\n",
        "print(f'{df.info()}\\n')\n",
        "print(f'{df.head(2)}')"
      ],
      "metadata": {
        "colab": {
          "base_uri": "https://localhost:8080/"
        },
        "id": "-LCth0zpl5bJ",
        "outputId": "a7a27b21-bb3b-4b97-99a5-b8f62771c67a"
      },
      "execution_count": null,
      "outputs": [
        {
          "output_type": "stream",
          "name": "stdout",
          "text": [
            "<class 'pandas.core.frame.DataFrame'>\n",
            "Int64Index: 14315076 entries, 1 to 25344669\n",
            "Data columns (total 9 columns):\n",
            " #   Column             Dtype  \n",
            "---  ------             -----  \n",
            " 0   userId             int64  \n",
            " 1   movieId            int64  \n",
            " 2   rating             float64\n",
            " 3   original_language  object \n",
            " 4   original_title     object \n",
            " 5   overview           object \n",
            " 6   revenue            float64\n",
            " 7   runtime            float64\n",
            " 8   keywords           object \n",
            "dtypes: float64(3), int64(2), object(4)\n",
            "memory usage: 1.1+ GB\n",
            "None\n",
            "\n",
            "   userId  movieId  rating original_language original_title  \\\n",
            "1      11      110     3.5                en     Braveheart   \n",
            "3      24      110     5.0                en     Braveheart   \n",
            "\n",
            "                                            overview      revenue  runtime  \\\n",
            "1  Enraged at the slaughter of Murron, his new br...  210000000.0    177.0   \n",
            "3  Enraged at the slaughter of Murron, his new br...  210000000.0    177.0   \n",
            "\n",
            "                                            keywords  \n",
            "1  [{'id': 30, 'name': 'individual'}, {'id': 388,...  \n",
            "3  [{'id': 30, 'name': 'individual'}, {'id': 388,...  \n"
          ]
        }
      ]
    },
    {
      "cell_type": "markdown",
      "source": [
        "#Part 2: Collaborative Filtering\n",
        "\n",
        "We prepared our dataset in the previous step and df DataFrame contains all the required data for our study. In this step, we will use item-based collaborative filtering - using user ratings to find similar movies"
      ],
      "metadata": {
        "id": "qPBkj1rTqHfY"
      }
    },
    {
      "cell_type": "markdown",
      "source": [
        "Creating a rating matrix, rows are users' ratings and columns are movies.\n",
        "We can expect a sparse matrix"
      ],
      "metadata": {
        "id": "mA3d67YBcD3U"
      }
    },
    {
      "cell_type": "code",
      "source": [
        "df_matrix =  df[['userId', 'original_title', 'rating']]\n",
        "rating_matrix = df_matrix.pivot_table(index='original_title',  columns='userId', values='rating')\n",
        "rating_matrix.info()\n",
        "print(f'{rating_matrix.info()}\\n')\n"
      ],
      "metadata": {
        "colab": {
          "base_uri": "https://localhost:8080/"
        },
        "id": "1z2r6Uyv9D-0",
        "outputId": "8212015c-a13e-4b74-fab6-09b5725e04b8"
      },
      "execution_count": null,
      "outputs": [
        {
          "output_type": "stream",
          "name": "stdout",
          "text": [
            "<class 'pandas.core.frame.DataFrame'>\n",
            "Index: 3417 entries, (500) Days of Summer to Æon Flux\n",
            "Columns: 41419 entries, 11 to 270896\n",
            "dtypes: float64(41419)\n",
            "memory usage: 1.1+ GB\n",
            "<class 'pandas.core.frame.DataFrame'>\n",
            "Index: 3417 entries, (500) Days of Summer to Æon Flux\n",
            "Columns: 41419 entries, 11 to 270896\n",
            "dtypes: float64(41419)\n",
            "memory usage: 1.1+ GB\n",
            "None\n",
            "\n"
          ]
        }
      ]
    },
    {
      "cell_type": "markdown",
      "source": [
        "We need to fill each row, cannot keep Nan\n",
        "\n",
        "There are several alternatives on this step, I have chosen filling with 0 and create a sparse matrix. In other instances, such as reducing dimensionality using SVD, filling with row averages also yield good result."
      ],
      "metadata": {
        "id": "XJEuuHLIcM39"
      }
    },
    {
      "cell_type": "code",
      "source": [
        "rating_matrix_filled = rating_matrix.apply(lambda row: row.fillna(0), axis=1)\n",
        "rating_matrix_filled.info()"
      ],
      "metadata": {
        "colab": {
          "base_uri": "https://localhost:8080/"
        },
        "id": "OskItHV-V7pd",
        "outputId": "7db15e57-aada-4959-e555-3fdd796b463c"
      },
      "execution_count": null,
      "outputs": [
        {
          "output_type": "stream",
          "name": "stdout",
          "text": [
            "<class 'pandas.core.frame.DataFrame'>\n",
            "Index: 3417 entries, (500) Days of Summer to Æon Flux\n",
            "Columns: 41419 entries, 11 to 270896\n",
            "dtypes: float64(41419)\n",
            "memory usage: 1.1+ GB\n"
          ]
        }
      ]
    },
    {
      "cell_type": "markdown",
      "source": [
        "For the recommendation system, as the dimensionality of this problem is reasonable, I will use KNN, which is highly flexible. If the dimensionality was larger (in case user-based filtering), SVD could be employed.\n",
        "\n",
        "Tried ecludian distance metric, but cosine similarity is working slightly better.\n"
      ],
      "metadata": {
        "id": "Kqw4f3fqrmf3"
      }
    },
    {
      "cell_type": "code",
      "source": [
        "#Training KNN model\n",
        "knn = NearestNeighbors(metric='cosine', algorithm='brute', n_neighbors=20, n_jobs=2)\n",
        "knn.fit(rating_matrix_filled)"
      ],
      "metadata": {
        "colab": {
          "base_uri": "https://localhost:8080/",
          "height": 74
        },
        "id": "W3tp6CPITyQS",
        "outputId": "462eb62c-8a2b-4066-8158-efc9b73d7a1b"
      },
      "execution_count": null,
      "outputs": [
        {
          "output_type": "execute_result",
          "data": {
            "text/plain": [
              "NearestNeighbors(algorithm='brute', metric='cosine', n_jobs=2, n_neighbors=20)"
            ],
            "text/html": [
              "<style>#sk-container-id-1 {color: black;background-color: white;}#sk-container-id-1 pre{padding: 0;}#sk-container-id-1 div.sk-toggleable {background-color: white;}#sk-container-id-1 label.sk-toggleable__label {cursor: pointer;display: block;width: 100%;margin-bottom: 0;padding: 0.3em;box-sizing: border-box;text-align: center;}#sk-container-id-1 label.sk-toggleable__label-arrow:before {content: \"▸\";float: left;margin-right: 0.25em;color: #696969;}#sk-container-id-1 label.sk-toggleable__label-arrow:hover:before {color: black;}#sk-container-id-1 div.sk-estimator:hover label.sk-toggleable__label-arrow:before {color: black;}#sk-container-id-1 div.sk-toggleable__content {max-height: 0;max-width: 0;overflow: hidden;text-align: left;background-color: #f0f8ff;}#sk-container-id-1 div.sk-toggleable__content pre {margin: 0.2em;color: black;border-radius: 0.25em;background-color: #f0f8ff;}#sk-container-id-1 input.sk-toggleable__control:checked~div.sk-toggleable__content {max-height: 200px;max-width: 100%;overflow: auto;}#sk-container-id-1 input.sk-toggleable__control:checked~label.sk-toggleable__label-arrow:before {content: \"▾\";}#sk-container-id-1 div.sk-estimator input.sk-toggleable__control:checked~label.sk-toggleable__label {background-color: #d4ebff;}#sk-container-id-1 div.sk-label input.sk-toggleable__control:checked~label.sk-toggleable__label {background-color: #d4ebff;}#sk-container-id-1 input.sk-hidden--visually {border: 0;clip: rect(1px 1px 1px 1px);clip: rect(1px, 1px, 1px, 1px);height: 1px;margin: -1px;overflow: hidden;padding: 0;position: absolute;width: 1px;}#sk-container-id-1 div.sk-estimator {font-family: monospace;background-color: #f0f8ff;border: 1px dotted black;border-radius: 0.25em;box-sizing: border-box;margin-bottom: 0.5em;}#sk-container-id-1 div.sk-estimator:hover {background-color: #d4ebff;}#sk-container-id-1 div.sk-parallel-item::after {content: \"\";width: 100%;border-bottom: 1px solid gray;flex-grow: 1;}#sk-container-id-1 div.sk-label:hover label.sk-toggleable__label {background-color: #d4ebff;}#sk-container-id-1 div.sk-serial::before {content: \"\";position: absolute;border-left: 1px solid gray;box-sizing: border-box;top: 0;bottom: 0;left: 50%;z-index: 0;}#sk-container-id-1 div.sk-serial {display: flex;flex-direction: column;align-items: center;background-color: white;padding-right: 0.2em;padding-left: 0.2em;position: relative;}#sk-container-id-1 div.sk-item {position: relative;z-index: 1;}#sk-container-id-1 div.sk-parallel {display: flex;align-items: stretch;justify-content: center;background-color: white;position: relative;}#sk-container-id-1 div.sk-item::before, #sk-container-id-1 div.sk-parallel-item::before {content: \"\";position: absolute;border-left: 1px solid gray;box-sizing: border-box;top: 0;bottom: 0;left: 50%;z-index: -1;}#sk-container-id-1 div.sk-parallel-item {display: flex;flex-direction: column;z-index: 1;position: relative;background-color: white;}#sk-container-id-1 div.sk-parallel-item:first-child::after {align-self: flex-end;width: 50%;}#sk-container-id-1 div.sk-parallel-item:last-child::after {align-self: flex-start;width: 50%;}#sk-container-id-1 div.sk-parallel-item:only-child::after {width: 0;}#sk-container-id-1 div.sk-dashed-wrapped {border: 1px dashed gray;margin: 0 0.4em 0.5em 0.4em;box-sizing: border-box;padding-bottom: 0.4em;background-color: white;}#sk-container-id-1 div.sk-label label {font-family: monospace;font-weight: bold;display: inline-block;line-height: 1.2em;}#sk-container-id-1 div.sk-label-container {text-align: center;}#sk-container-id-1 div.sk-container {/* jupyter's `normalize.less` sets `[hidden] { display: none; }` but bootstrap.min.css set `[hidden] { display: none !important; }` so we also need the `!important` here to be able to override the default hidden behavior on the sphinx rendered scikit-learn.org. See: https://github.com/scikit-learn/scikit-learn/issues/21755 */display: inline-block !important;position: relative;}#sk-container-id-1 div.sk-text-repr-fallback {display: none;}</style><div id=\"sk-container-id-1\" class=\"sk-top-container\"><div class=\"sk-text-repr-fallback\"><pre>NearestNeighbors(algorithm=&#x27;brute&#x27;, metric=&#x27;cosine&#x27;, n_jobs=2, n_neighbors=20)</pre><b>In a Jupyter environment, please rerun this cell to show the HTML representation or trust the notebook. <br />On GitHub, the HTML representation is unable to render, please try loading this page with nbviewer.org.</b></div><div class=\"sk-container\" hidden><div class=\"sk-item\"><div class=\"sk-estimator sk-toggleable\"><input class=\"sk-toggleable__control sk-hidden--visually\" id=\"sk-estimator-id-1\" type=\"checkbox\" checked><label for=\"sk-estimator-id-1\" class=\"sk-toggleable__label sk-toggleable__label-arrow\">NearestNeighbors</label><div class=\"sk-toggleable__content\"><pre>NearestNeighbors(algorithm=&#x27;brute&#x27;, metric=&#x27;cosine&#x27;, n_jobs=2, n_neighbors=20)</pre></div></div></div></div></div>"
            ]
          },
          "metadata": {},
          "execution_count": 13
        }
      ]
    },
    {
      "cell_type": "code",
      "source": [
        "def movieRecommender(movie_name, knn, matrix):\n",
        "  try:\n",
        "    dist, idx = knn.kneighbors(matrix.loc[movie_name].values.reshape(1,-1),n_neighbors=20)\n",
        "    print(f'For your selection of {movie_name}, I will recommend \\n')\n",
        "    for i in range(1, len(dist.flatten())):\n",
        "      movie_name = matrix.index[idx.flatten()[i]]\n",
        "      print(f'{i}- {movie_name}, distance is {dist.flatten()[i]:.3f}')\n",
        "  except:\n",
        "    print(f'The movie {movie_name} is not in our database. \\n Please note that our database contains only popular movies up until mid 2017.')\n"
      ],
      "metadata": {
        "id": "Wn6QOF_AGGlD"
      },
      "execution_count": null,
      "outputs": []
    },
    {
      "cell_type": "markdown",
      "source": [
        "We will try to use the recommender for an example movie:"
      ],
      "metadata": {
        "id": "GSHTHrfZcosY"
      }
    },
    {
      "cell_type": "code",
      "source": [
        "movieRecommender('Ace Ventura: Pet Detective', knn, rating_matrix_filled)"
      ],
      "metadata": {
        "colab": {
          "base_uri": "https://localhost:8080/"
        },
        "id": "0UBzcnN3Pv3B",
        "outputId": "54fdad37-cfff-4a74-ccf9-f33c84e051cf"
      },
      "execution_count": null,
      "outputs": [
        {
          "output_type": "stream",
          "name": "stdout",
          "text": [
            "For your selection of Ace Ventura: Pet Detective, I will recommend \n",
            "\n",
            "1- Dumb and Dumber, distance is 0.268\n",
            "2- Ace Ventura: When Nature Calls, distance is 0.289\n",
            "3- The Mask, distance is 0.309\n",
            "4- Home Alone, distance is 0.359\n",
            "5- Forrest Gump, distance is 0.360\n",
            "6- Jurassic Park, distance is 0.363\n",
            "7- Mrs. Doubtfire, distance is 0.363\n",
            "8- Independence Day, distance is 0.373\n",
            "9- Speed, distance is 0.390\n",
            "10- Mission: Impossible, distance is 0.394\n",
            "11- Terminator 2: Judgment Day, distance is 0.395\n",
            "12- Batman, distance is 0.396\n",
            "13- Pulp Fiction, distance is 0.397\n",
            "14- Batman Forever, distance is 0.400\n",
            "15- Austin Powers: The Spy Who Shagged Me, distance is 0.401\n",
            "16- Back to the Future, distance is 0.402\n",
            "17- Austin Powers: International Man of Mystery, distance is 0.403\n",
            "18- True Lies, distance is 0.404\n",
            "19- Liar Liar, distance is 0.407\n"
          ]
        }
      ]
    },
    {
      "cell_type": "code",
      "source": [
        "movieRecommender('Batman Begins', knn, rating_matrix_filled)"
      ],
      "metadata": {
        "colab": {
          "base_uri": "https://localhost:8080/"
        },
        "id": "76NbNrvQeJOz",
        "outputId": "5a42b073-4e2f-46a3-a0c5-09622e7ef087"
      },
      "execution_count": null,
      "outputs": [
        {
          "output_type": "stream",
          "name": "stdout",
          "text": [
            "For your selection of Batman Begins, I will recommend \n",
            "\n",
            "1- The Dark Knight, distance is 0.234\n",
            "2- The Lord of the Rings: The Return of the King, distance is 0.261\n",
            "3- The Lord of the Rings: The Two Towers, distance is 0.282\n",
            "4- V for Vendetta, distance is 0.287\n",
            "5- The Lord of the Rings: The Fellowship of the Ring, distance is 0.294\n",
            "6- The Incredibles, distance is 0.298\n",
            "7- Pirates of the Caribbean: The Curse of the Black Pearl, distance is 0.299\n",
            "8- Sin City, distance is 0.300\n",
            "9- Iron Man, distance is 0.301\n",
            "10- Kill Bill: Vol. 1, distance is 0.312\n",
            "11- Casino Royale, distance is 0.312\n",
            "12- The Bourne Identity, distance is 0.314\n",
            "13- Spider-Man 2, distance is 0.320\n",
            "14- Kill Bill: Vol. 2, distance is 0.324\n",
            "15- Fight Club, distance is 0.328\n",
            "16- Spider-Man, distance is 0.329\n",
            "17- Star Wars: Episode III - Revenge of the Sith, distance is 0.333\n",
            "18- The Matrix, distance is 0.334\n",
            "19- The Prestige, distance is 0.334\n"
          ]
        }
      ]
    },
    {
      "cell_type": "markdown",
      "source": [
        "Our base recommender system is working with a mediocre performance. I like \"Ace Ventura\" and I also like majority of recommendations listed for that movie.\n",
        "\n",
        "However, recommendations for \"The Dark Knight\" is weird. There are 3 Lotr movies in top 5. We need to improve results by eliminating some recommendations that are not matching by using genre/plot data."
      ],
      "metadata": {
        "id": "PZdQeEaHr8sI"
      }
    },
    {
      "cell_type": "markdown",
      "source": [
        "#Part 3: Enhanching our Recommender\n",
        "\n"
      ],
      "metadata": {
        "id": "SxDGUINFsSZj"
      }
    },
    {
      "cell_type": "markdown",
      "source": [
        "SentenceTransformers library is decent at sentence and text embeddings.\n",
        "\n",
        "We can use this library to find text embeddings (movie overview & movie tags) and use to check similarity of embeddings to eliminate some poor recommendations from  our base recommender system."
      ],
      "metadata": {
        "id": "fp6jgXonHKkW"
      }
    },
    {
      "cell_type": "code",
      "source": [
        "pip install -U sentence-transformers"
      ],
      "metadata": {
        "id": "n9vnDwePHP9o"
      },
      "execution_count": null,
      "outputs": []
    },
    {
      "cell_type": "code",
      "source": [
        "from sentence_transformers import SentenceTransformer, util\n",
        "model = SentenceTransformer('all-MiniLM-L6-v2')"
      ],
      "metadata": {
        "id": "dPYSddazHLUu"
      },
      "execution_count": null,
      "outputs": []
    },
    {
      "cell_type": "code",
      "source": [
        "def movieRecommenderEnhanced(movie_name, knn, matrix):\n",
        "  recommendation_list = [movie_name]\n",
        "  distances = [1]\n",
        "  try:\n",
        "    dist, idx = knn.kneighbors(matrix.loc[movie_name].values.reshape(1,-1),n_neighbors=20)\n",
        "    for i in range(1, len(dist.flatten())):\n",
        "      movie_name = matrix.index[idx.flatten()[i]]\n",
        "      recommendation_list.append(movie_name)\n",
        "      distance = dist.flatten()[i]\n",
        "      distances.append(distance)\n",
        "  except:\n",
        "    print(f'The movie {movie_name} is not in our database. \\n Please note that our database contains only popular movies up until mid 2017.')\n",
        "\n",
        "  overview_embeddings = []\n",
        "  similarities = []\n",
        "  for movie in recommendation_list:\n",
        "    overview = df_meta[df_meta['original_title'] == movie]['overview'].values[0]\n",
        "    embedding = model.encode(overview)\n",
        "    overview_embeddings.append(embedding)\n",
        "    cosine_scores = util.cos_sim(overview_embeddings[0], embedding)\n",
        "    similarities.append(cosine_scores.item())\n",
        "\n",
        "  print(f'For your selection of {recommendation_list[0]}, I will recommend \\n')\n",
        "  counter = 1\n",
        "  for i in range(1 , len(recommendation_list)):\n",
        "    if similarities[i] > 0.2:\n",
        "      print(f'{counter}- {recommendation_list[i]} and distance is {distances[i]:.3f}')\n",
        "      counter += 1\n"
      ],
      "metadata": {
        "id": "0_pRTi7BIW7N"
      },
      "execution_count": null,
      "outputs": []
    },
    {
      "cell_type": "markdown",
      "source": [
        "In our design, we use cosine similarities of movies' overview embeddings. Later, we eliminate the ones with similarities less than 0.2.\n",
        "\n",
        "Note: Similarities has the maximum value of 1.0 (with themselves) and 0.2 cutpoint is just a hyperparameter, which I believe a decent one."
      ],
      "metadata": {
        "id": "eJGWDamPrJHT"
      }
    },
    {
      "cell_type": "code",
      "source": [
        "movieRecommenderEnhanced('Batman Begins', knn, rating_matrix_filled)"
      ],
      "metadata": {
        "colab": {
          "base_uri": "https://localhost:8080/"
        },
        "id": "VPox9Vmiozl-",
        "outputId": "103a95b5-b6c7-4931-b072-1c582c1ea7d1"
      },
      "execution_count": null,
      "outputs": [
        {
          "output_type": "stream",
          "name": "stdout",
          "text": [
            "For your selection of Batman Begins, I will recommend \n",
            "\n",
            "1- The Dark Knight and distance is 0.234\n",
            "2- V for Vendetta and distance is 0.287\n",
            "3- The Incredibles and distance is 0.298\n",
            "4- Pirates of the Caribbean: The Curse of the Black Pearl and distance is 0.299\n",
            "5- Sin City and distance is 0.300\n",
            "6- Iron Man and distance is 0.301\n",
            "7- Kill Bill: Vol. 1 and distance is 0.312\n",
            "8- The Bourne Identity and distance is 0.314\n",
            "9- Spider-Man 2 and distance is 0.320\n",
            "10- Kill Bill: Vol. 2 and distance is 0.324\n",
            "11- Fight Club and distance is 0.328\n",
            "12- Spider-Man and distance is 0.329\n",
            "13- The Matrix and distance is 0.334\n"
          ]
        }
      ]
    },
    {
      "cell_type": "markdown",
      "source": [
        "There is an improvement in our recommender system; overview similarity filtering helped us to eliminate Lotr of The Rings movies from our recommendation for \"Batman Begins\". Although Lotr is a great movie series, it has limited similarities with Nolan's Batman Begins movie.\n",
        "\n",
        "Now, we will try to improve the algorithm even further by using movie tags."
      ],
      "metadata": {
        "id": "uY9wU7Tpoy_c"
      }
    },
    {
      "cell_type": "code",
      "source": [
        "def movieRecommenderEnhanced(movie_name, knn, matrix):\n",
        "  recommendation_list = [movie_name]\n",
        "  overview_distances = [1]\n",
        "  try:\n",
        "    dist, idx = knn.kneighbors(matrix.loc[movie_name].values.reshape(1,-1),n_neighbors=20)\n",
        "    for i in range(1, len(dist.flatten())):\n",
        "      movie_name = matrix.index[idx.flatten()[i]]\n",
        "      recommendation_list.append(movie_name)\n",
        "      distance = dist.flatten()[i]\n",
        "      overview_distances.append(distance)\n",
        "  except:\n",
        "    print(f'The movie {movie_name} is not in our database. \\n Please note that our database contains only popular movies up until mid 2017.')\n",
        "\n",
        "  overview_embeddings = []\n",
        "  overview_similarities = []\n",
        "  for movie in recommendation_list:\n",
        "    overview = df_meta[df_meta['original_title'] == movie]['overview'].values[0]\n",
        "    embedding = model.encode(overview)\n",
        "    overview_embeddings.append(embedding)\n",
        "    cosine_scores = util.cos_sim(overview_embeddings[0], embedding)\n",
        "    overview_similarities.append(cosine_scores.item())\n",
        "\n",
        "  keyword_embeddings = []\n",
        "  keyword_similarities = []\n",
        "  for movie in recommendation_list:\n",
        "    #Extracting keywords from the keywords column\n",
        "    #Which is not in proper JSON format\n",
        "    keywords = list(df_meta[df_meta['original_title'] == movie]['keywords'].values[0].split(\",\"))\n",
        "    tags = []\n",
        "    for tag in keywords:\n",
        "      if tag.startswith(\" 'name\"):\n",
        "        tags.append(tag[10:-2])\n",
        "    tags[-1] = tags[-1][:-1]\n",
        "\n",
        "    combined_tags = \" \".join(tags)\n",
        "    embedding = model.encode(combined_tags)\n",
        "    keyword_embeddings.append(embedding)\n",
        "    cosine_scores = util.cos_sim(keyword_embeddings[0], embedding)\n",
        "    keyword_similarities.append(cosine_scores.item())\n",
        "\n",
        "\n",
        "  print(f'For your selection of {recommendation_list[0]}, I will recommend \\n')\n",
        "  counter = 1\n",
        "  for i in range(1 , len(recommendation_list)):\n",
        "    if overview_similarities[i] > 0.2 and keyword_similarities[i] > 0.3:\n",
        "      print(f'{counter}- {recommendation_list[i]} and distance is {overview_distances[i]:.3f}')\n",
        "      counter += 1"
      ],
      "metadata": {
        "id": "lvzkFjQZron8"
      },
      "execution_count": null,
      "outputs": []
    },
    {
      "cell_type": "code",
      "source": [
        "movieRecommenderEnhanced('Batman Begins', knn, rating_matrix_filled)"
      ],
      "metadata": {
        "colab": {
          "base_uri": "https://localhost:8080/"
        },
        "id": "P6DVO-OIrnTW",
        "outputId": "0b6680e3-e420-4c7d-ecaf-b79dc6d73e19"
      },
      "execution_count": null,
      "outputs": [
        {
          "output_type": "stream",
          "name": "stdout",
          "text": [
            "For your selection of Batman Begins, I will recommend \n",
            "\n",
            "1- The Dark Knight and distance is 0.234\n",
            "2- V for Vendetta and distance is 0.287\n",
            "3- The Incredibles and distance is 0.298\n",
            "4- Pirates of the Caribbean: The Curse of the Black Pearl and distance is 0.299\n",
            "5- Sin City and distance is 0.300\n",
            "6- Iron Man and distance is 0.301\n",
            "7- Kill Bill: Vol. 1 and distance is 0.312\n",
            "8- Spider-Man 2 and distance is 0.320\n",
            "9- Kill Bill: Vol. 2 and distance is 0.324\n",
            "10- Fight Club and distance is 0.328\n",
            "11- Spider-Man and distance is 0.329\n",
            "12- The Matrix and distance is 0.334\n"
          ]
        }
      ]
    },
    {
      "cell_type": "code",
      "source": [
        "movieRecommenderEnhanced('The Matrix Reloaded', knn, rating_matrix_filled)"
      ],
      "metadata": {
        "colab": {
          "base_uri": "https://localhost:8080/"
        },
        "id": "5Ugp3mNv_aVw",
        "outputId": "9061f132-461d-41ce-b6d3-29f98ec56beb"
      },
      "execution_count": null,
      "outputs": [
        {
          "output_type": "stream",
          "name": "stdout",
          "text": [
            "For your selection of The Matrix Reloaded, I will recommend \n",
            "\n",
            "1- The Matrix Revolutions and distance is 0.197\n",
            "2- The Matrix and distance is 0.313\n",
            "3- Minority Report and distance is 0.316\n",
            "4- Star Wars: Episode II - Attack of the Clones and distance is 0.341\n",
            "5- Batman Begins and distance is 0.370\n"
          ]
        }
      ]
    },
    {
      "cell_type": "markdown",
      "source": [
        "#Conclusion\n",
        "\n",
        "User-based colloborative filtering, enhanced with overview/tags embedding closeness filtering (eliminated recommendations from unrelated genres, even if many users liked them both) yielded satisfactory results for our study. Recommended movies are reasonably well selected for given titles.\n",
        "\n",
        "As a note: we used a subset of the total available data in our study. This study can be enhanced using cast data, runtime (some people may have preference over shorter or longer movies), average vote rating (some people may only prefer high-rated movies), and so on."
      ],
      "metadata": {
        "id": "Y6TpE7Sp_Ywd"
      }
    }
  ]
}